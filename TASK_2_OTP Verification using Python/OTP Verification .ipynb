{
 "cells": [
  {
   "cell_type": "code",
   "execution_count": 1,
   "id": "d4849418",
   "metadata": {},
   "outputs": [],
   "source": [
    "import random\n",
    "\n",
    "def generate_otp():\n",
    "    return str(random.randint(100000, 999999))\n",
    "\n",
    "otp = generate_otp()\n"
   ]
  },
  {
   "cell_type": "code",
   "execution_count": 2,
   "id": "32604125",
   "metadata": {},
   "outputs": [],
   "source": [
    "import smtplib\n",
    "\n",
    "def send_email(receiver_email, otp, sender_email, password):\n",
    "    subject = \"Your OTP Code\"\n",
    "    body = f\"Your OTP code is {otp}.\"\n",
    "    message = f\"Subject: {subject}\\n\\n{body}\"\n",
    "    \n",
    "    with smtplib.SMTP_SSL(\"smtp.gmail.com\", 465) as server:\n",
    "        server.login(sender_email, password)\n",
    "        server.sendmail(sender_email, receiver_email, message)\n"
   ]
  },
  {
   "cell_type": "code",
   "execution_count": 3,
   "id": "9fa49dd5",
   "metadata": {},
   "outputs": [],
   "source": [
    "def main():\n",
    "    sender_email = \"your_email@gmail.com\"  # Replace with your email\n",
    "    password = \"your_16_digit_code\"       # Replace with your 16-digit code/password\n",
    "    \n",
    "    # Ask user for their email address\n",
    "    receiver_email = input(\"Enter your email: \")\n",
    "    \n",
    "    # Send the OTP\n",
    "    send_email(receiver_email, otp, sender_email, password)\n",
    "    \n",
    "    # Ask user for the OTP they received\n",
    "    user_otp = input(\"Enter the OTP sent to your email: \")\n",
    "    \n",
    "    if user_otp == otp:\n",
    "        print(\"OTP verified!\")\n",
    "    else:\n",
    "        print(\"Invalid OTP. Please try again.\")\n"
   ]
  },
  {
   "cell_type": "code",
   "execution_count": 5,
   "id": "099e05a8",
   "metadata": {},
   "outputs": [
    {
     "name": "stdout",
     "output_type": "stream",
     "text": [
      "Enter your email: marinareda072@gmail.com\n",
      "Enter the OTP sent to your email: 123456\n",
      "Invalid OTP. Please try again.\n"
     ]
    }
   ],
   "source": [
    "if __name__ == \"__main__\":\n",
    "    main()\n"
   ]
  },
  {
   "cell_type": "code",
   "execution_count": null,
   "id": "59163bb9",
   "metadata": {},
   "outputs": [],
   "source": []
  }
 ],
 "metadata": {
  "kernelspec": {
   "display_name": "Python 3 (ipykernel)",
   "language": "python",
   "name": "python3"
  },
  "language_info": {
   "codemirror_mode": {
    "name": "ipython",
    "version": 3
   },
   "file_extension": ".py",
   "mimetype": "text/x-python",
   "name": "python",
   "nbconvert_exporter": "python",
   "pygments_lexer": "ipython3",
   "version": "3.9.7"
  }
 },
 "nbformat": 4,
 "nbformat_minor": 5
}
