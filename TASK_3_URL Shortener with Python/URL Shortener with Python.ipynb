{
 "cells": [
  {
   "cell_type": "code",
   "execution_count": 1,
   "id": "4c679967",
   "metadata": {},
   "outputs": [
    {
     "name": "stdout",
     "output_type": "stream",
     "text": [
      "Enter the URL to be shortened: https://docs.google.com/presentation/d/19ejnH-KqDBWfoKQCq_6HQq-3QGBuKMI3k9cwpYpyth8/edit#slide=id.p\n",
      "Shortened URL: https://tinyurl.com/2pn34aqf\n"
     ]
    }
   ],
   "source": [
    "import pyshorteners\n",
    "\n",
    "def shorten_url(url):\n",
    "    s = pyshorteners.Shortener()\n",
    "    return s.tinyurl.short(url)\n",
    "\n",
    "if __name__ == \"__main__\":\n",
    "    url_to_shorten = input(\"Enter the URL to be shortened: \")\n",
    "    print(\"Shortened URL:\", shorten_url(url_to_shorten))\n"
   ]
  },
  {
   "cell_type": "code",
   "execution_count": null,
   "id": "9b210d89",
   "metadata": {},
   "outputs": [],
   "source": []
  }
 ],
 "metadata": {
  "kernelspec": {
   "display_name": "Python 3 (ipykernel)",
   "language": "python",
   "name": "python3"
  },
  "language_info": {
   "codemirror_mode": {
    "name": "ipython",
    "version": 3
   },
   "file_extension": ".py",
   "mimetype": "text/x-python",
   "name": "python",
   "nbconvert_exporter": "python",
   "pygments_lexer": "ipython3",
   "version": "3.9.7"
  }
 },
 "nbformat": 4,
 "nbformat_minor": 5
}
