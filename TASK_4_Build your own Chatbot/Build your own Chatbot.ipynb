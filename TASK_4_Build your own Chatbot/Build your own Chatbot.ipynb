{
 "cells": [
  {
   "cell_type": "code",
   "execution_count": 2,
   "id": "4abf17d4",
   "metadata": {},
   "outputs": [
    {
     "name": "stdout",
     "output_type": "stream",
     "text": [
      "Hello! I'm your enhanced chatbot. Ask me something or type 'exit' to leave.\n",
      "You: rtyuiolknb\n",
      "Chatbot: I'm not sure how to respond to that.\n",
      "Please provide feedback on how I can improve: sorry\n",
      "Feedback received: sorry\n",
      "You: exit\n",
      "Chatbot KPI: Successfully responded to 0.00% of queries.\n"
     ]
    }
   ],
   "source": [
    "import re\n",
    "\n",
    "def simple_chatbot():\n",
    "    print(\"Hello! I'm your enhanced chatbot. Ask me something or type 'exit' to leave.\")\n",
    "    \n",
    "    # Variables for KPI\n",
    "    successful_responses = 0\n",
    "    total_queries = 0\n",
    "    \n",
    "    patterns = {\n",
    "        r'hello': \"Hi there!\",\n",
    "        r'how are you': \"I'm just a program, so I don't have feelings, but thanks for asking!\",\n",
    "        r'your name': \"I'm an enhanced chatbot using pattern matching!\",\n",
    "        r'favorite color': \"I don't have personal preferences, but blue seems popular.\",\n",
    "        r'joke': \"Why did the programmer quit his job? He didn't get arrays!\",\n",
    "        r'thanks': \"You're welcome!\",\n",
    "        r'sleep': \"I don't sleep. Always up and running.\",\n",
    "        r'age': \"I'm just a piece of code, so I don't age like humans.\",\n",
    "        r'birthday': \"Every day is a good day for me. No birthday needed.\",\n",
    "        r'time': \"I don't track time, but you can check your device's clock.\",\n",
    "        r'date': \"Please check your calendar; I don't keep track.\",\n",
    "        r'movie': \"I don't watch movies, but I can help you find one.\",\n",
    "        r'music': \"While I don't listen to music, I know a lot about it.\",\n",
    "        r'help': \"Of course! Ask me anything.\",\n",
    "        r'love': \"I'm just code, so I don't feel emotions like love.\",\n",
    "        r'human': \"No, I'm a machine learning model.\",\n",
    "        r'robot': \"Close enough. I'm a digital chatbot.\",\n",
    "        r'fun': \"I'm designed to be informative, but I can try to be fun!\",\n",
    "        r'book': \"There are many great books out there. Any specific genre in mind?\",\n",
    "        r'food': \"I don't eat, but I have information on many foods!\",\n",
    "        r'drink': \"Digital beings like me don't drink, but I can tell you about various drinks.\",\n",
    "        r'country': \"I have knowledge about many countries. Which one are you curious about?\",\n",
    "        r'city': \"I know about many cities. Ask away!\",\n",
    "        r'sports': \"Which sport are you interested in?\",\n",
    "        r'weather': \"I can't forecast, but there are great apps for that!\",\n",
    "        r'news': \"I don't have real-time updates, but I can share general knowledge.\",\n",
    "        r'language': \"I can understand and generate text in multiple languages.\",\n",
    "        r'family': \"I don't have a family; I'm a program.\",\n",
    "        r'friend': \"All users are my friends! I'm here to help.\"\n",
    "    }\n",
    "    \n",
    "    while True:\n",
    "        user_input = input(\"You: \").lower()\n",
    "\n",
    "        if 'exit' in user_input:\n",
    "            break\n",
    "\n",
    "        total_queries += 1  # Increment total queries\n",
    "        \n",
    "        responded = False\n",
    "        for pattern, response in patterns.items():\n",
    "            if re.search(pattern, user_input):\n",
    "                print(f\"Chatbot: {response}\")\n",
    "                responded = True\n",
    "                successful_responses += 1  # Increment successful responses\n",
    "                break\n",
    "        \n",
    "        if not responded:\n",
    "            print(\"Chatbot: I'm not sure how to respond to that.\")\n",
    "            feedback = input(\"Please provide feedback on how I can improve: \")\n",
    "            # Store the feedback (for now, we just print it)\n",
    "            print(f\"Feedback received: {feedback}\")\n",
    "            \n",
    "    # Display KPI after user exits\n",
    "    if total_queries > 0:\n",
    "        success_rate = (successful_responses / total_queries) * 100\n",
    "        print(f\"Chatbot KPI: Successfully responded to {success_rate:.2f}% of queries.\")\n",
    "    else:\n",
    "        print(\"Chatbot: Goodbye! Have a great day!\")\n",
    "\n",
    "# To run the chatbot:\n",
    "simple_chatbot()\n"
   ]
  },
  {
   "cell_type": "code",
   "execution_count": null,
   "id": "ab1947d5",
   "metadata": {},
   "outputs": [],
   "source": []
  }
 ],
 "metadata": {
  "kernelspec": {
   "display_name": "Python 3 (ipykernel)",
   "language": "python",
   "name": "python3"
  },
  "language_info": {
   "codemirror_mode": {
    "name": "ipython",
    "version": 3
   },
   "file_extension": ".py",
   "mimetype": "text/x-python",
   "name": "python",
   "nbconvert_exporter": "python",
   "pygments_lexer": "ipython3",
   "version": "3.9.7"
  }
 },
 "nbformat": 4,
 "nbformat_minor": 5
}
